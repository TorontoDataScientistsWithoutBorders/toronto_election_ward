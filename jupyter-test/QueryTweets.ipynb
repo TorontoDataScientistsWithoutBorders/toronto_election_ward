{
 "cells": [
  {
   "cell_type": "markdown",
   "metadata": {},
   "source": [
    "<h1>Graph Test</h1>"
   ]
  },
  {
   "cell_type": "code",
   "execution_count": 15,
   "metadata": {},
   "outputs": [
    {
     "data": {
      "image/png": "[encoded data removed]",
      "text/plain": [
       "<matplotlib.figure.Figure at 0x7ffa89b1fd30>"
      ]
     },
     "metadata": {},
     "output_type": "display_data"
    }
   ],
   "source": [
    "import matplotlib.pyplot as plt\n",
    "import numpy as np\n",
    "\n",
    "x=np.array(list(range(-100,100)))\n",
    "y=x**2\n",
    "plt.scatter(x,y)\n",
    "plt.show()\n"
   ]
  },
  {
   "cell_type": "markdown",
   "metadata": {},
   "source": [
    "<h1>Mongo Client</h1>"
   ]
  },
  {
   "cell_type": "code",
   "execution_count": 16,
   "metadata": {},
   "outputs": [],
   "source": [
    "from pymongo import MongoClient\n",
    "\n",
    "client = MongoClient('127.0.0.1:27017')\n",
    "db = client.Main"
   ]
  },
  {
   "cell_type": "markdown",
   "metadata": {},
   "source": [
    "<h2>Get Collections in the database</h2>"
   ]
  },
  {
   "cell_type": "code",
   "execution_count": 17,
   "metadata": {
    "scrolled": true
   },
   "outputs": [
    {
     "data": {
      "text/plain": [
       "['system.indexes', 'tweets']"
      ]
     },
     "execution_count": 17,
     "metadata": {},
     "output_type": "execute_result"
    }
   ],
   "source": [
    "db.collection_names()"
   ]
  },
  {
   "cell_type": "markdown",
   "metadata": {},
   "source": [
    "<h2>Get count of tweets</h2>"
   ]
  },
  {
   "cell_type": "code",
   "execution_count": 18,
   "metadata": {},
   "outputs": [
    {
     "data": {
      "text/plain": [
       "38"
      ]
     },
     "execution_count": 18,
     "metadata": {},
     "output_type": "execute_result"
    }
   ],
   "source": [
    "db.tweets.count()"
   ]
  },
  {
   "cell_type": "markdown",
   "metadata": {},
   "source": [
    "<h2>Obtain first tweet (very unefficiently)</h2>"
   ]
  },
  {
   "cell_type": "code",
   "execution_count": 58,
   "metadata": {},
   "outputs": [],
   "source": [
    "doc = db.tweets.find({}).__next__()"
   ]
  },
  {
   "cell_type": "markdown",
   "metadata": {},
   "source": [
    "## Some other ways to get the first tweet"
   ]
  },
  {
   "cell_type": "code",
   "execution_count": 40,
   "metadata": {},
   "outputs": [
    {
     "name": "stdout",
     "output_type": "stream",
     "text": [
      "{'geo': None, 'source': '<a href=\"http://www.scorespro.com/livescore/\" rel=\"nofollow\">ScoresPro Livescore</a>', 'in_reply_to_user_id': None, 'contributors': None, 'id': 914279249066037248, 'favorite_count': 0, 'truncated': False, 'favorited': False, 'quote_count': 0, 'in_reply_to_status_id': None, 'is_quote_status': False, 'in_reply_to_user_id_str': None, 'id_str': '914279249066037248', 'user': {'default_profile_image': False, 'geo_enabled': False, 'following': None, 'friends_count': 3, 'favourites_count': 4, 'is_translator': False, 'id_str': '279629142', 'profile_link_color': 'E86717', 'follow_request_sent': None, 'listed_count': 474, 'profile_background_color': 'EEEEEE', 'followers_count': 2152, 'translator_type': 'none', 'location': 'New York', 'screen_name': 'ScoresProLive', 'profile_use_background_image': True, 'profile_sidebar_border_color': 'FFFFFF', 'verified': False, 'lang': 'en', 'notifications': None, 'profile_sidebar_fill_color': 'DDEEF6', 'name': 'ScoresPro.com Live', 'id': 279629142, 'protected': False, 'utc_offset': 10800, 'profile_background_tile': True, 'url': 'http://www.scorespro.com/livescore/', 'profile_text_color': '333333', 'description': \"Tweet's live channel with fastest livescore updates for popular sports as coming in real time through http://www.ScoresPro.com\", 'profile_image_url_https': 'https://pbs.twimg.com/profile_images/477438698322022401/C1OBtw65_normal.png', 'profile_background_image_url': 'http://pbs.twimg.com/profile_background_images/477055024959197184/j84nphNO.png', 'statuses_count': 1571310, 'profile_image_url': 'http://pbs.twimg.com/profile_images/477438698322022401/C1OBtw65_normal.png', 'contributors_enabled': False, 'profile_background_image_url_https': 'https://pbs.twimg.com/profile_background_images/477055024959197184/j84nphNO.png', 'created_at': 'Sat Apr 09 17:24:55 +0000 2011', 'default_profile': False, 'time_zone': 'Athens'}, 'lang': 'en', 'retweet_count': 0, 'entities': {'hashtags': [{'text': 'Livescore', 'indices': [18, 28]}, {'text': 'Hamilton', 'indices': [51, 60]}, {'text': 'Toronto', 'indices': [75, 83]}], 'urls': [], 'user_mentions': [{'name': 'ScoresPro.com', 'indices': [29, 39], 'id': 17626533, 'screen_name': 'ScoresPro', 'id_str': '17626533'}], 'symbols': []}, 'text': 'American Football #Livescore @ScoresPro: (CAN-CFL) #Hamilton Tiger-Cats vs #Toronto Argonauts: 21-14 ...', 'retweeted': False, 'timestamp_ms': '1506816134121', 'place': None, 'in_reply_to_status_id_str': None, 'reply_count': 0, '_id': ObjectId('59d030869ded1321639a2fb8'), 'filter_level': 'low', 'in_reply_to_screen_name': None, 'coordinates': None, 'created_at': 'Sun Oct 01 00:02:14 +0000 2017'}\n",
      "{'geo': None, 'source': '<a href=\"http://www.scorespro.com/livescore/\" rel=\"nofollow\">ScoresPro Livescore</a>', 'in_reply_to_user_id': None, 'contributors': None, 'id': 914279249066037248, 'favorite_count': 0, 'truncated': False, 'favorited': False, 'quote_count': 0, 'in_reply_to_status_id': None, 'is_quote_status': False, 'in_reply_to_user_id_str': None, 'id_str': '914279249066037248', 'user': {'default_profile_image': False, 'geo_enabled': False, 'following': None, 'friends_count': 3, 'favourites_count': 4, 'is_translator': False, 'id_str': '279629142', 'profile_link_color': 'E86717', 'follow_request_sent': None, 'listed_count': 474, 'profile_background_color': 'EEEEEE', 'followers_count': 2152, 'translator_type': 'none', 'location': 'New York', 'screen_name': 'ScoresProLive', 'profile_use_background_image': True, 'profile_sidebar_border_color': 'FFFFFF', 'verified': False, 'lang': 'en', 'notifications': None, 'profile_sidebar_fill_color': 'DDEEF6', 'name': 'ScoresPro.com Live', 'id': 279629142, 'protected': False, 'utc_offset': 10800, 'profile_background_tile': True, 'url': 'http://www.scorespro.com/livescore/', 'profile_text_color': '333333', 'description': \"Tweet's live channel with fastest livescore updates for popular sports as coming in real time through http://www.ScoresPro.com\", 'profile_image_url_https': 'https://pbs.twimg.com/profile_images/477438698322022401/C1OBtw65_normal.png', 'profile_background_image_url': 'http://pbs.twimg.com/profile_background_images/477055024959197184/j84nphNO.png', 'statuses_count': 1571310, 'profile_image_url': 'http://pbs.twimg.com/profile_images/477438698322022401/C1OBtw65_normal.png', 'contributors_enabled': False, 'profile_background_image_url_https': 'https://pbs.twimg.com/profile_background_images/477055024959197184/j84nphNO.png', 'created_at': 'Sat Apr 09 17:24:55 +0000 2011', 'default_profile': False, 'time_zone': 'Athens'}, 'lang': 'en', 'retweet_count': 0, 'entities': {'hashtags': [{'text': 'Livescore', 'indices': [18, 28]}, {'text': 'Hamilton', 'indices': [51, 60]}, {'text': 'Toronto', 'indices': [75, 83]}], 'urls': [], 'user_mentions': [{'name': 'ScoresPro.com', 'indices': [29, 39], 'id': 17626533, 'screen_name': 'ScoresPro', 'id_str': '17626533'}], 'symbols': []}, 'text': 'American Football #Livescore @ScoresPro: (CAN-CFL) #Hamilton Tiger-Cats vs #Toronto Argonauts: 21-14 ...', 'retweeted': False, 'timestamp_ms': '1506816134121', 'place': None, 'in_reply_to_status_id_str': None, 'reply_count': 0, '_id': ObjectId('59d030869ded1321639a2fb8'), 'filter_level': 'low', 'in_reply_to_screen_name': None, 'coordinates': None, 'created_at': 'Sun Oct 01 00:02:14 +0000 2017'}\n"
     ]
    }
   ],
   "source": [
    "doc = db.tweets.find_one()\n",
    "print(doc)\n",
    "doc = db.tweets.find().limit(1)\n",
    "print(doc.next())"
   ]
  },
  {
   "cell_type": "markdown",
   "metadata": {},
   "source": [
    "<h2>Show attributes of each tweet</h2>"
   ]
  },
  {
   "cell_type": "code",
   "execution_count": 122,
   "metadata": {},
   "outputs": [
    {
     "data": {
      "text/plain": [
       "dict_keys(['in_reply_to_user_id_str', 'geo', 'quote_count', 'display_text_range', 'reply_count', 'id_str', 'in_reply_to_screen_name', 'retweeted', 'timestamp_ms', 'coordinates', 'source', 'created_at', 'retweet_count', 'text', 'favorite_count', 'id', 'is_quote_status', 'in_reply_to_status_id_str', 'in_reply_to_user_id', 'entities', '_id', 'in_reply_to_status_id', 'truncated', 'filter_level', 'place', 'user', 'favorited', 'contributors', 'lang'])"
      ]
     },
     "execution_count": 122,
     "metadata": {},
     "output_type": "execute_result"
    }
   ],
   "source": [
    "doc.keys()"
   ]
  },
  {
   "cell_type": "markdown",
   "metadata": {},
   "source": [
    "<h2>Show attributes of the 'user' attribute</h2>"
   ]
  },
  {
   "cell_type": "code",
   "execution_count": 123,
   "metadata": {},
   "outputs": [
    {
     "data": {
      "text/plain": [
       "dict_keys(['follow_request_sent', 'is_translator', 'profile_link_color', 'default_profile', 'profile_sidebar_border_color', 'statuses_count', 'profile_background_image_url_https', 'profile_background_tile', 'id_str', 'profile_text_color', 'profile_image_url', 'geo_enabled', 'favourites_count', 'profile_sidebar_fill_color', 'utc_offset', 'translator_type', 'time_zone', 'created_at', 'protected', 'verified', 'following', 'profile_image_url_https', 'listed_count', 'id', 'description', 'followers_count', 'default_profile_image', 'profile_background_image_url', 'url', 'profile_background_color', 'friends_count', 'location', 'screen_name', 'contributors_enabled', 'profile_banner_url', 'name', 'notifications', 'profile_use_background_image', 'lang'])"
      ]
     },
     "execution_count": 123,
     "metadata": {},
     "output_type": "execute_result"
    }
   ],
   "source": [
    "doc['user'].keys()"
   ]
  },
  {
   "cell_type": "markdown",
   "metadata": {},
   "source": [
    "<h2>What are the tweets from users with more than 1,000,000 followers?</h2>"
   ]
  },
  {
   "cell_type": "code",
   "execution_count": 151,
   "metadata": {},
   "outputs": [
    {
     "data": {
      "text/plain": [
       "3"
      ]
     },
     "execution_count": 151,
     "metadata": {},
     "output_type": "execute_result"
    }
   ],
   "source": [
    "db.tweets.count({\"user.followers_count\": {\"$gt\":1000000}})"
   ]
  },
  {
   "cell_type": "code",
   "execution_count": 152,
   "metadata": {},
   "outputs": [
    {
     "name": "stdout",
     "output_type": "stream",
     "text": [
      "\"ESPN FC\" tweeted: \n",
      "Toronto FC becomes the first MLS team to clinch a playoff spot. https://t.co/cfmt8eYy94\n",
      "\n",
      "\n",
      "\"Vogue Runway\" tweeted: \n",
      "The corset trend can be shockingly sweet, as demonstrated by Elle Fanning in Toronto: https://t.co/NHcF4txvFk\n",
      "\n",
      "\n",
      "\"InStyle\" tweeted: \n",
      "See exclusive pics of your favorite stars at the Toronto International Film Festival 2017 https://t.co/UxHGAz5fGx\n",
      "\n",
      "\n"
     ]
    }
   ],
   "source": [
    "for i in db.tweets.find({\"user.followers_count\": {\"$gt\":1000000}}):\n",
    "    print('\"'+i['user']['name']+'\"'+str(\" tweeted: \\n\")+i['text']+'\\n\\n')"
   ]
  },
  {
   "cell_type": "markdown",
   "metadata": {},
   "source": [
    "<h2>How much space does the db use?</h2>"
   ]
  },
  {
   "cell_type": "code",
   "execution_count": 147,
   "metadata": {},
   "outputs": [
    {
     "name": "stdout",
     "output_type": "stream",
     "text": [
      "09/10/17 20:00:21\n"
     ]
    },
    {
     "data": {
      "text/plain": [
       "{'avgObjSize': 8020.690702087287,\n",
       " 'collections': 3,\n",
       " 'dataFileVersion': {'major': 4, 'minor': 5},\n",
       " 'dataSize': 8453808,\n",
       " 'db': 'Main',\n",
       " 'extentFreeList': {'num': 0, 'totalSize': 0},\n",
       " 'fileSize': 67108864,\n",
       " 'indexSize': 49056,\n",
       " 'indexes': 1,\n",
       " 'nsSizeMB': 16,\n",
       " 'numExtents': 7,\n",
       " 'objects': 1054,\n",
       " 'ok': 1.0,\n",
       " 'storageSize': 11194368}"
      ]
     },
     "execution_count": 147,
     "metadata": {},
     "output_type": "execute_result"
    }
   ],
   "source": [
    "import time\n",
    "print(time.strftime(\"%D %H:%M:%S\"))\n",
    "db.command('dbstats')"
   ]
  },
  {
   "cell_type": "code",
   "execution_count": 138,
   "metadata": {},
   "outputs": [
    {
     "name": "stdout",
     "output_type": "stream",
     "text": [
      "09/10/17 19:50:37\n"
     ]
    },
    {
     "data": {
      "text/plain": [
       "{'avgObjSize': 7644.026315789473,\n",
       " 'collections': 3,\n",
       " 'dataFileVersion': {'major': 4, 'minor': 5},\n",
       " 'dataSize': 4647568,\n",
       " 'db': 'Main',\n",
       " 'extentFreeList': {'num': 0, 'totalSize': 0},\n",
       " 'fileSize': 67108864,\n",
       " 'indexSize': 32704,\n",
       " 'indexes': 1,\n",
       " 'nsSizeMB': 16,\n",
       " 'numExtents': 6,\n",
       " 'objects': 608,\n",
       " 'ok': 1.0,\n",
       " 'storageSize': 5529600}"
      ]
     },
     "execution_count": 138,
     "metadata": {},
     "output_type": "execute_result"
    }
   ],
   "source": [
    "import time\n",
    "print(time.strftime(\"%D %H:%M:%S\"))\n",
    "db.command('dbstats')"
   ]
  }
 ],
 "metadata": {
  "kernelspec": {
   "display_name": "Python 3",
   "language": "python",
   "name": "python3"
  },
  "language_info": {
   "codemirror_mode": {
    "name": "ipython",
    "version": 3
   },
   "file_extension": ".py",
   "mimetype": "text/x-python",
   "name": "python",
   "nbconvert_exporter": "python",
   "pygments_lexer": "ipython3",
   "version": "3.5.2"
  }
 },
 "nbformat": 4,
 "nbformat_minor": 2
}
